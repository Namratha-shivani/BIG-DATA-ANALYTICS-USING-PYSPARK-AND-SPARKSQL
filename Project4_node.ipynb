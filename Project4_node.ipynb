{
  "nbformat": 4,
  "nbformat_minor": 0,
  "metadata": {
    "colab": {
      "provenance": []
    },
    "kernelspec": {
      "name": "python3",
      "display_name": "Python 3"
    },
    "language_info": {
      "name": "python"
    }
  },
  "cells": [
    {
      "cell_type": "code",
      "execution_count": 1,
      "metadata": {
        "id": "7TIAcBW7Z0xV"
      },
      "outputs": [],
      "source": [
        "!apt-get install openjdk-8-jdk-headless -qq > /dev/null\n",
        "!wget -q https://archive.apache.org/dist/spark/spark-3.2.0/spark-3.2.0-bin-hadoop3.2.tgz\n",
        "!tar xf spark-3.2.0-bin-hadoop3.2.tgz\n",
        "!pip install -q findspark"
      ]
    },
    {
      "cell_type": "code",
      "source": [
        "import os\n",
        "os.environ[\"JAVA_HOME\"] = \"/usr/lib/jvm/java-8-openjdk-amd64\"\n",
        "os.environ[\"SPARK_HOME\"] = \"spark-3.2.0-bin-hadoop3.2\""
      ],
      "metadata": {
        "id": "2BKMB6GPaCmC"
      },
      "execution_count": 2,
      "outputs": []
    },
    {
      "cell_type": "code",
      "source": [
        "import findspark\n",
        "findspark.init()"
      ],
      "metadata": {
        "id": "-JA6e1RkaEwX"
      },
      "execution_count": 3,
      "outputs": []
    },
    {
      "cell_type": "code",
      "source": [
        "from pyspark.sql import SparkSession\n",
        "spark = SparkSession.builder.master(\"local[*]\").getOrCreate()\n",
        "sc = spark.sparkContext\n",
        "sc"
      ],
      "metadata": {
        "colab": {
          "base_uri": "https://localhost:8080/",
          "height": 193
        },
        "id": "jkeT8s15aGo6",
        "outputId": "36692693-6871-44eb-a1ed-ebb5ee7eeb57"
      },
      "execution_count": 4,
      "outputs": [
        {
          "output_type": "execute_result",
          "data": {
            "text/plain": [
              "<SparkContext master=local[*] appName=pyspark-shell>"
            ],
            "text/html": [
              "\n",
              "        <div>\n",
              "            <p><b>SparkContext</b></p>\n",
              "\n",
              "            <p><a href=\"http://3ac93dbb5b48:4040\">Spark UI</a></p>\n",
              "\n",
              "            <dl>\n",
              "              <dt>Version</dt>\n",
              "                <dd><code>v3.2.0</code></dd>\n",
              "              <dt>Master</dt>\n",
              "                <dd><code>local[*]</code></dd>\n",
              "              <dt>AppName</dt>\n",
              "                <dd><code>pyspark-shell</code></dd>\n",
              "            </dl>\n",
              "        </div>\n",
              "        "
            ]
          },
          "metadata": {},
          "execution_count": 4
        }
      ]
    },
    {
      "cell_type": "markdown",
      "source": [
        "# PART B"
      ],
      "metadata": {
        "id": "A_4RK-PIpQj3"
      }
    },
    {
      "cell_type": "code",
      "source": [
        "# Reading the graph data\n",
        "adj_mat = spark.read.csv('/content/graph data.csv')"
      ],
      "metadata": {
        "id": "aV9JxC5apR-9"
      },
      "execution_count": 5,
      "outputs": []
    },
    {
      "cell_type": "code",
      "source": [
        "#Changing the column names of the data frame to the nodes names from 1 ... 25\n",
        "adj_mat_nodes = adj_mat.toDF(*[str(i) for i in range(1,26)])\n",
        "adj_mat_nodes.show()"
      ],
      "metadata": {
        "colab": {
          "base_uri": "https://localhost:8080/"
        },
        "id": "aAstxMhE1jTm",
        "outputId": "5618178a-8bb4-4c75-8911-f691485c9a05"
      },
      "execution_count": 6,
      "outputs": [
        {
          "output_type": "stream",
          "name": "stdout",
          "text": [
            "+---+---+---+---+---+---+---+---+---+---+---+---+---+---+---+---+---+---+---+---+---+---+---+---+---+\n",
            "|  1|  2|  3|  4|  5|  6|  7|  8|  9| 10| 11| 12| 13| 14| 15| 16| 17| 18| 19| 20| 21| 22| 23| 24| 25|\n",
            "+---+---+---+---+---+---+---+---+---+---+---+---+---+---+---+---+---+---+---+---+---+---+---+---+---+\n",
            "|  0|  1|  0|  1|  1|  0|  1|  1|  1|  0|  0|  1|  0|  1|  1|  0|  1|  1|  0|  1|  0|  1|  0|  1|  1|\n",
            "|  1|  0|  0|  1|  0|  0|  1|  0|  1|  0|  0|  1|  0|  0|  1|  0|  1|  0|  1|  0|  0|  1|  0|  1|  0|\n",
            "|  0|  1|  0|  1|  1|  0|  0|  0|  1|  0|  0|  0|  0|  1|  1|  0|  0|  1|  0|  0|  0|  1|  1|  0|  1|\n",
            "|  0|  1|  1|  0|  0|  0|  1|  0|  0|  0|  1|  1|  0|  1|  0|  0|  1|  1|  0|  0|  1|  0|  1|  1|  0|\n",
            "|  0|  0|  1|  1|  0|  1|  1|  1|  0|  0|  0|  1|  0|  1|  0|  0|  1|  1|  1|  0|  0|  0|  0|  1|  1|\n",
            "|  1|  0|  1|  1|  0|  0|  1|  0|  1|  0|  1|  1|  0|  1|  0|  0|  1|  1|  0|  0|  1|  1|  1|  0|  0|\n",
            "|  0|  0|  0|  1|  0|  1|  0|  1|  1|  0|  1|  1|  0|  0|  1|  0|  0|  1|  1|  0|  1|  1|  0|  0|  1|\n",
            "|  0|  1|  0|  1|  0|  0|  0|  0|  0|  1|  1|  1|  1|  1|  1|  0|  0|  0|  1|  0|  0|  1|  1|  1|  0|\n",
            "|  1|  0|  0|  1|  1|  0|  0|  1|  0|  1|  1|  0|  0|  1|  0|  1|  0|  0|  0|  1|  0|  1|  1|  0|  0|\n",
            "|  1|  1|  0|  1|  1|  0|  0|  0|  1|  0|  1|  0|  1|  0|  0|  1|  1|  0|  1|  0|  0|  1|  0|  1|  1|\n",
            "|  1|  1|  0|  1|  0|  0|  1|  0|  1|  0|  0|  1|  0|  0|  0|  0|  1|  1|  1|  0|  0|  1|  1|  1|  0|\n",
            "|  0|  0|  1|  1|  1|  0|  1|  0|  0|  1|  1|  0|  0|  1|  1|  0|  0|  0|  0|  0|  1|  1|  1|  0|  0|\n",
            "|  1|  1|  0|  1|  0|  0|  0|  0|  0|  1|  1|  1|  0|  1|  0|  1|  1|  0|  1|  0|  0|  0|  0|  1|  0|\n",
            "|  0|  1|  0|  0|  1|  1|  0|  1|  1|  0|  0|  0|  1|  0|  0|  0|  0|  1|  1|  0|  1|  1|  0|  1|  0|\n",
            "|  0|  1|  1|  1|  1|  0|  0|  0|  0|  0|  1|  0|  0|  0|  0|  1|  0|  1|  0|  1|  1|  0|  1|  0|  1|\n",
            "|  1|  1|  0|  0|  0|  0|  1|  0|  1|  0|  1|  1|  1|  0|  0|  0|  0|  0|  1|  0|  1|  1|  0|  1|  0|\n",
            "|  0|  1|  0|  1|  0|  0|  0|  1|  1|  0|  0|  0|  0|  1|  1|  1|  0|  0|  0|  0|  0|  1|  0|  1|  0|\n",
            "|  0|  0|  1|  1|  0|  0|  0|  0|  1|  0|  1|  1|  0|  1|  0|  1|  1|  0|  0|  0|  0|  1|  0|  0|  1|\n",
            "|  0|  1|  0|  0|  0|  0|  0|  0|  0|  0|  1|  0|  0|  1|  0|  1|  1|  0|  0|  0|  0|  1|  0|  1|  0|\n",
            "|  0|  1|  1|  0|  0|  0|  1|  0|  0|  1|  0|  0|  0|  0|  1|  1|  1|  0|  1|  0|  0|  1|  0|  0|  1|\n",
            "+---+---+---+---+---+---+---+---+---+---+---+---+---+---+---+---+---+---+---+---+---+---+---+---+---+\n",
            "only showing top 20 rows\n",
            "\n"
          ]
        }
      ]
    },
    {
      "cell_type": "code",
      "source": [
        "# question 1 - Find all self-loops (i.e. edge between a node onto itself)\n",
        "\n",
        "# Selecting the diagonal values and checking whether they are 1 to identify self loops\n",
        "for i in range(25):\n",
        "  if adj_mat.select(adj_mat.columns[i]).collect()[i][0] == 1:\n",
        "    print(i+1,i+1)"
      ],
      "metadata": {
        "id": "gXC54HLlijLu"
      },
      "execution_count": 7,
      "outputs": []
    },
    {
      "cell_type": "code",
      "source": [
        "# question 2 - Node with the largest out-degree\n",
        "\n",
        "# Converting the data frame to rdd and zipping with the index values as node names 1...25\n",
        "adj_mat_index = adj_mat_nodes.rdd.zipWithIndex().map(lambda x: (x[0],x[1]+1))\n",
        "\n",
        "# mapping each row converting the values to integers and summing them up\n",
        "row_sum = adj_mat_index.map(lambda x: ([int(y) for y in x[0]],x[1])).map(lambda x: (sum(x[0]),x[1]))\n",
        "\n",
        "# sorting the sum values by the key and identifying the node with the highest number of out-degree\n",
        "row_sort = row_sum.sortByKey(ascending=False)\n",
        "row_sort.collect()\n"
      ],
      "metadata": {
        "colab": {
          "base_uri": "https://localhost:8080/"
        },
        "id": "UDkaahXto9sw",
        "outputId": "e3219994-f554-4972-b2f7-aa11cdb4cc65"
      },
      "execution_count": 8,
      "outputs": [
        {
          "output_type": "execute_result",
          "data": {
            "text/plain": [
              "[(15, 1),\n",
              " (13, 6),\n",
              " (13, 10),\n",
              " (13, 21),\n",
              " (12, 5),\n",
              " (12, 7),\n",
              " (12, 8),\n",
              " (12, 11),\n",
              " (12, 25),\n",
              " (11, 4),\n",
              " (11, 9),\n",
              " (11, 12),\n",
              " (11, 13),\n",
              " (11, 14),\n",
              " (11, 15),\n",
              " (11, 16),\n",
              " (11, 22),\n",
              " (10, 2),\n",
              " (10, 3),\n",
              " (10, 18),\n",
              " (10, 20),\n",
              " (10, 23),\n",
              " (9, 17),\n",
              " (9, 24),\n",
              " (7, 19)]"
            ]
          },
          "metadata": {},
          "execution_count": 8
        }
      ]
    },
    {
      "cell_type": "code",
      "source": [
        "print('Node with the highest out going edges is',row_sort.collect()[0][1], 'with', row_sort.collect()[0][0], 'out going edges')"
      ],
      "metadata": {
        "colab": {
          "base_uri": "https://localhost:8080/"
        },
        "id": "Bs9jrkfa82eQ",
        "outputId": "a2491269-28bb-4914-dc55-e085c84440fe"
      },
      "execution_count": 9,
      "outputs": [
        {
          "output_type": "stream",
          "name": "stdout",
          "text": [
            "Node with the highest out going edges is 1 with 15 out going edges\n"
          ]
        }
      ]
    },
    {
      "cell_type": "code",
      "source": [
        "# question 3 - Node with the largest in-degree\n",
        "\n",
        "#initiating an empty list to append the tuple value of  in-degree and node\n",
        "in_degree = []\n",
        "\n",
        "# looping over every column mapping over the columns and summing up the values\n",
        "for i in range(len(adj_mat_nodes.columns)):\n",
        "  in_degree.append((sum(adj_mat_index.map(lambda x: x[0][i]).map(lambda x: int(x)).collect()),i+1))\n",
        "\n",
        "# Converting the list to a rdd and sorting by the in-degree values\n",
        "column_sort = sc.parallelize(in_degree).sortByKey(ascending=False)\n",
        "column_sort.collect()"
      ],
      "metadata": {
        "colab": {
          "base_uri": "https://localhost:8080/"
        },
        "id": "2gNrXfDqtBMQ",
        "outputId": "d6d8f998-db0d-43f9-b143-beab23f2cc62"
      },
      "execution_count": 10,
      "outputs": [
        {
          "output_type": "execute_result",
          "data": {
            "text/plain": [
              "[(20, 4),\n",
              " (18, 22),\n",
              " (16, 24),\n",
              " (15, 9),\n",
              " (15, 14),\n",
              " (14, 2),\n",
              " (14, 11),\n",
              " (14, 12),\n",
              " (13, 17),\n",
              " (12, 19),\n",
              " (11, 7),\n",
              " (11, 15),\n",
              " (11, 16),\n",
              " (11, 23),\n",
              " (10, 3),\n",
              " (10, 18),\n",
              " (9, 21),\n",
              " (9, 25),\n",
              " (8, 1),\n",
              " (8, 5),\n",
              " (7, 8),\n",
              " (6, 10),\n",
              " (6, 13),\n",
              " (5, 20),\n",
              " (4, 6)]"
            ]
          },
          "metadata": {},
          "execution_count": 10
        }
      ]
    },
    {
      "cell_type": "code",
      "source": [
        "print('Node with the highest in coming edges is',column_sort.collect()[0][1],'with',column_sort.collect()[0][0],'incoming edges')"
      ],
      "metadata": {
        "colab": {
          "base_uri": "https://localhost:8080/"
        },
        "id": "0BSyyRQ_fMzs",
        "outputId": "e6f8de07-cbbd-4627-e2df-bafe7b8a7234"
      },
      "execution_count": 11,
      "outputs": [
        {
          "output_type": "stream",
          "name": "stdout",
          "text": [
            "Node with the highest in coming edges is 4 with 20 incoming edges\n"
          ]
        }
      ]
    },
    {
      "cell_type": "code",
      "source": [
        "# question 4 - Find the distribution of vertices in-degrees\n",
        "\n",
        "# grouping by the key i.e is the in-degree values to list all the nodes with the same values\n",
        "column_sort.groupByKey().map(lambda x: (x[0],list(x[1]))).collect()\n"
      ],
      "metadata": {
        "colab": {
          "base_uri": "https://localhost:8080/"
        },
        "id": "R7qZZLNr9M3T",
        "outputId": "7ba01b17-899e-45d5-eeb4-77ceccdf0ed0"
      },
      "execution_count": 12,
      "outputs": [
        {
          "output_type": "execute_result",
          "data": {
            "text/plain": [
              "[(20, [4]),\n",
              " (18, [22]),\n",
              " (16, [24]),\n",
              " (14, [2, 11, 12]),\n",
              " (12, [19]),\n",
              " (10, [3, 18]),\n",
              " (8, [1, 5]),\n",
              " (6, [10, 13]),\n",
              " (4, [6]),\n",
              " (15, [9, 14]),\n",
              " (13, [17]),\n",
              " (11, [7, 15, 16, 23]),\n",
              " (9, [21, 25]),\n",
              " (7, [8]),\n",
              " (5, [20])]"
            ]
          },
          "metadata": {},
          "execution_count": 12
        }
      ]
    },
    {
      "cell_type": "code",
      "source": [
        "# question 5 - Find a path between node 1 to node 9 [output: a list of nodes that connects 1 and 9]\n",
        "\n",
        "# function to find a path between the given edges\n",
        "def find_path(start_node, end_node, matrix):\n",
        "\n",
        "    # setting visiting to nodes to empty set\n",
        "    visited_nodes = set()\n",
        "\n",
        "    #initiating queque with the tuple of 1st node given and an empty path\n",
        "    queue = [(start_node, [])]\n",
        "\n",
        "    while queue:\n",
        "        # assigning the present node as the start node and path as the intial path\n",
        "        present_node, path = queue.pop(0)\n",
        "\n",
        "        # if present node is the end node then returning the path\n",
        "        if present_node == end_node:\n",
        "            return path + [present_node]\n",
        "\n",
        "        # checking if the present node is not in visited nodes\n",
        "        if present_node not in visited_nodes:\n",
        "            visited_nodes.add(present_node)\n",
        "\n",
        "            # Get all the nodes with out going edges from present node\n",
        "            row = matrix.filter(lambda x: x[1] == present_node).first()[0]\n",
        "            neighbors = [col for col in range(1, 26) if row[str(col)] == '1']\n",
        "\n",
        "            # for every out going edge checking if the edge is visited and running the loop for the unvisited nodes\n",
        "            for neighbor in neighbors:\n",
        "                if neighbor not in visited_nodes:\n",
        "                    queue.append((neighbor, path + [present_node]))\n",
        "\n",
        "    return None\n",
        "\n",
        "# Finding a path from node 1 to node 9\n",
        "path = find_path(1, 9, adj_mat_index)\n",
        "\n",
        "print(path)\n",
        "\n"
      ],
      "metadata": {
        "colab": {
          "base_uri": "https://localhost:8080/"
        },
        "id": "DGJeFmxf-sR3",
        "outputId": "cb9813f3-6c55-417e-bb83-7b381b3b788d"
      },
      "execution_count": 13,
      "outputs": [
        {
          "output_type": "stream",
          "name": "stdout",
          "text": [
            "[1, 9]\n"
          ]
        }
      ]
    }
  ]
}