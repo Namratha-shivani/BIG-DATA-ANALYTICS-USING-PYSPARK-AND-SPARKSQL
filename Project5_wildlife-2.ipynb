{
  "nbformat": 4,
  "nbformat_minor": 0,
  "metadata": {
    "colab": {
      "provenance": []
    },
    "kernelspec": {
      "name": "python3",
      "display_name": "Python 3"
    },
    "language_info": {
      "name": "python"
    }
  },
  "cells": [
    {
      "cell_type": "code",
      "execution_count": null,
      "metadata": {
        "id": "7TIAcBW7Z0xV"
      },
      "outputs": [],
      "source": [
        "!apt-get install openjdk-8-jdk-headless -qq > /dev/null\n",
        "!wget -q https://archive.apache.org/dist/spark/spark-3.2.0/spark-3.2.0-bin-hadoop3.2.tgz\n",
        "!tar xf spark-3.2.0-bin-hadoop3.2.tgz\n",
        "!pip install -q findspark"
      ]
    },
    {
      "cell_type": "code",
      "source": [
        "import os\n",
        "os.environ[\"JAVA_HOME\"] = \"/usr/lib/jvm/java-8-openjdk-amd64\"\n",
        "os.environ[\"SPARK_HOME\"] = \"spark-3.2.0-bin-hadoop3.2\""
      ],
      "metadata": {
        "id": "2BKMB6GPaCmC"
      },
      "execution_count": null,
      "outputs": []
    },
    {
      "cell_type": "code",
      "source": [
        "import findspark\n",
        "findspark.init()"
      ],
      "metadata": {
        "id": "-JA6e1RkaEwX"
      },
      "execution_count": null,
      "outputs": []
    },
    {
      "cell_type": "code",
      "source": [
        "from pyspark.sql import SparkSession\n",
        "spark = SparkSession.builder.master(\"local[*]\").getOrCreate()\n",
        "sc = spark.sparkContext\n",
        "sc"
      ],
      "metadata": {
        "id": "jkeT8s15aGo6",
        "colab": {
          "base_uri": "https://localhost:8080/",
          "height": 193
        },
        "outputId": "a63a51c5-4e39-4301-f48d-034062d9bc77"
      },
      "execution_count": null,
      "outputs": [
        {
          "output_type": "execute_result",
          "data": {
            "text/plain": [
              "<SparkContext master=local[*] appName=pyspark-shell>"
            ],
            "text/html": [
              "\n",
              "        <div>\n",
              "            <p><b>SparkContext</b></p>\n",
              "\n",
              "            <p><a href=\"http://b21a91621b5d:4040\">Spark UI</a></p>\n",
              "\n",
              "            <dl>\n",
              "              <dt>Version</dt>\n",
              "                <dd><code>v3.2.0</code></dd>\n",
              "              <dt>Master</dt>\n",
              "                <dd><code>local[*]</code></dd>\n",
              "              <dt>AppName</dt>\n",
              "                <dd><code>pyspark-shell</code></dd>\n",
              "            </dl>\n",
              "        </div>\n",
              "        "
            ]
          },
          "metadata": {},
          "execution_count": 4
        }
      ]
    },
    {
      "cell_type": "markdown",
      "source": [
        "# PART A"
      ],
      "metadata": {
        "id": "ow4XX3AKaWA6"
      }
    },
    {
      "cell_type": "code",
      "source": [
        "# reading the wildlife trade file\n",
        "trade_data = spark.read.csv('/content/wildlife_trade.csv',header=True)"
      ],
      "metadata": {
        "id": "AKbZ5W-4aIxP"
      },
      "execution_count": null,
      "outputs": []
    },
    {
      "cell_type": "code",
      "source": [
        "# schema of the trade data frame\n",
        "trade_data.schema"
      ],
      "metadata": {
        "id": "WgNJGgpomPm-",
        "colab": {
          "base_uri": "https://localhost:8080/"
        },
        "outputId": "8bb149c1-7894-47e4-effd-34a85671013b"
      },
      "execution_count": null,
      "outputs": [
        {
          "output_type": "execute_result",
          "data": {
            "text/plain": [
              "StructType(List(StructField(Year,StringType,true),StructField(App.,StringType,true),StructField(Taxon,StringType,true),StructField(Class,StringType,true),StructField(Order,StringType,true),StructField(Family,StringType,true),StructField(Genus,StringType,true),StructField(Term,StringType,true)))"
            ]
          },
          "metadata": {},
          "execution_count": 7
        }
      ]
    },
    {
      "cell_type": "code",
      "source": [
        "trade_data.show()"
      ],
      "metadata": {
        "id": "kWUsG9XbfUQm",
        "colab": {
          "base_uri": "https://localhost:8080/"
        },
        "outputId": "023808ed-31c1-4877-ed29-5b20c647dcd6"
      },
      "execution_count": null,
      "outputs": [
        {
          "output_type": "stream",
          "name": "stdout",
          "text": [
            "+----+----+--------------------+-----------+----------------+-------------+----------+---------+\n",
            "|Year|App.|               Taxon|      Class|           Order|       Family|     Genus|     Term|\n",
            "+----+----+--------------------+-----------+----------------+-------------+----------+---------+\n",
            "|2016|   I|      Aquila heliaca|       Aves|   Falconiformes| Accipitridae|    Aquila|   bodies|\n",
            "|2016|   I|      Aquila heliaca|       Aves|   Falconiformes| Accipitridae|    Aquila|   bodies|\n",
            "|2016|   I|Haliaeetus albicilla|       Aves|   Falconiformes| Accipitridae|Haliaeetus| feathers|\n",
            "|2016|   I|Haliaeetus albicilla|       Aves|   Falconiformes| Accipitridae|Haliaeetus|specimens|\n",
            "|2016|   I|Haliaeetus albicilla|       Aves|   Falconiformes| Accipitridae|Haliaeetus|specimens|\n",
            "|2016|   I|Haliaeetus albicilla|       Aves|   Falconiformes| Accipitridae|Haliaeetus|   bodies|\n",
            "|2016|   I|      Harpia harpyja|       Aves|   Falconiformes| Accipitridae|    Harpia| feathers|\n",
            "|2016|   I|      Harpia harpyja|       Aves|   Falconiformes| Accipitridae|    Harpia| feathers|\n",
            "|2016|   I|      Harpia harpyja|       Aves|   Falconiformes| Accipitridae|    Harpia| feathers|\n",
            "|2016|   I|Acipenser breviro...|Actinopteri|Acipenseriformes|Acipenseridae| Acipenser|     live|\n",
            "|2016|   I|    Acipenser sturio|Actinopteri|Acipenseriformes|Acipenseridae| Acipenser|   caviar|\n",
            "|2016|   I|     Ailurus fulgens|   Mammalia|       Carnivora|    Ailuridae|   Ailurus|     live|\n",
            "|2016|   I|     Ailurus fulgens|   Mammalia|       Carnivora|    Ailuridae|   Ailurus|     live|\n",
            "|2016|   I|     Ailurus fulgens|   Mammalia|       Carnivora|    Ailuridae|   Ailurus|     live|\n",
            "|2016|   I|     Ailurus fulgens|   Mammalia|       Carnivora|    Ailuridae|   Ailurus|     live|\n",
            "|2016|   I|     Ailurus fulgens|   Mammalia|       Carnivora|    Ailuridae|   Ailurus|     live|\n",
            "|2016|   I|     Ailurus fulgens|   Mammalia|       Carnivora|    Ailuridae|   Ailurus|   bodies|\n",
            "|2016|   I|     Ailurus fulgens|   Mammalia|       Carnivora|    Ailuridae|   Ailurus|specimens|\n",
            "|2016|   I|     Ailurus fulgens|   Mammalia|       Carnivora|    Ailuridae|   Ailurus|     live|\n",
            "|2016|   I|     Ailurus fulgens|   Mammalia|       Carnivora|    Ailuridae|   Ailurus|     live|\n",
            "+----+----+--------------------+-----------+----------------+-------------+----------+---------+\n",
            "only showing top 20 rows\n",
            "\n"
          ]
        }
      ]
    },
    {
      "cell_type": "code",
      "source": [
        "trade_data.createOrReplaceTempView('Trade')\n",
        "\n",
        "# question 1 - what is the most frequent Class of animal traded\n",
        "\n",
        "# Selecting the most frequent class using SQL statements by grouping by class and ordering by count\n",
        "animal_freq_trades = spark.sql('SELECT Class FROM Trade WHERE Class is not null GROUP BY Class ORDER BY Count(\"App.\") DESC LIMIT 1')\n",
        "animal_freq_trades.show()"
      ],
      "metadata": {
        "id": "TAhbrCA0biW9",
        "colab": {
          "base_uri": "https://localhost:8080/"
        },
        "outputId": "6dbd447d-b635-4d39-dbd9-63f15cb7e73f"
      },
      "execution_count": null,
      "outputs": [
        {
          "output_type": "stream",
          "name": "stdout",
          "text": [
            "+--------+\n",
            "|   Class|\n",
            "+--------+\n",
            "|Reptilia|\n",
            "+--------+\n",
            "\n"
          ]
        }
      ]
    },
    {
      "cell_type": "code",
      "source": [
        "# question 2 - List all the items (Term) traded that are associated with Mammals\n",
        "\n",
        "# Selecting the distinct Term where class is mammalia\n",
        "mammals_items = spark.sql('SELECT DISTINCT Term FROM Trade WHERE Class == \"Mammalia\"')\n",
        "mammals_items.show()"
      ],
      "metadata": {
        "colab": {
          "base_uri": "https://localhost:8080/"
        },
        "id": "WEQ749k_jarB",
        "outputId": "66a59726-6df7-49ee-e2f1-8b171fd92e6c"
      },
      "execution_count": null,
      "outputs": [
        {
          "output_type": "stream",
          "name": "stdout",
          "text": [
            "+--------------------+\n",
            "|                Term|\n",
            "+--------------------+\n",
            "|                gall|\n",
            "|                meat|\n",
            "| fur product (small)|\n",
            "|              fibres|\n",
            "|              scales|\n",
            "|         bone pieces|\n",
            "|            garments|\n",
            "|            medicine|\n",
            "|              bodies|\n",
            "|            carvings|\n",
            "|               horns|\n",
            "|leather products ...|\n",
            "|               claws|\n",
            "|              skulls|\n",
            "|             extract|\n",
            "|               tails|\n",
            "|                hair|\n",
            "|           specimens|\n",
            "|         skin pieces|\n",
            "|         horn pieces|\n",
            "+--------------------+\n",
            "only showing top 20 rows\n",
            "\n"
          ]
        }
      ]
    },
    {
      "cell_type": "code",
      "source": [
        "# question 3 - List all CITES Appendix II species\n",
        "\n",
        "from pyspark.sql import Row\n",
        "\n",
        "# converting the data frame to rdd and filtering the rows where Appendix is II\n",
        "app2_list = spark.createDataFrame(trade_data.rdd.filter(lambda x : x['App.']=='II').map(lambda x: Row(App=x['App.'], Taxon=x['Taxon'], Class=x['Class'], Order=x['Order'], Family=x['Family'], Genus=x['Genus']))).distinct()\n",
        "app2_list.show()"
      ],
      "metadata": {
        "colab": {
          "base_uri": "https://localhost:8080/"
        },
        "id": "liWd70CIkDVl",
        "outputId": "28deb9c7-38d8-48de-fd12-d3a620b56041"
      },
      "execution_count": null,
      "outputs": [
        {
          "output_type": "stream",
          "name": "stdout",
          "text": [
            "+---+--------------------+--------+--------------+------------+-------------+\n",
            "|App|               Taxon|   Class|         Order|      Family|        Genus|\n",
            "+---+--------------------+--------+--------------+------------+-------------+\n",
            "| II| Acropora natalensis|Anthozoa|  Scleractinia| Acroporidae|     Acropora|\n",
            "| II|  Acropora subglabra|Anthozoa|  Scleractinia| Acroporidae|     Acropora|\n",
            "| II| Montipora millepora|Anthozoa|  Scleractinia| Acroporidae|    Montipora|\n",
            "| II|  Crocodylus porosus|Reptilia|    Crocodylia|Crocodylidae|   Crocodylus|\n",
            "| II|     Grampus griseus|Mammalia|       Cetacea| Delphinidae|      Grampus|\n",
            "| II|    Falco sparverius|    Aves| Falconiformes|  Falconidae|        Falco|\n",
            "| II|      Uroplatus spp.|Reptilia|        Sauria|  Gekkonidae|    Uroplatus|\n",
            "| II|        Aloe confusa|    null|      Liliales|   Liliaceae|         Aloe|\n",
            "| II|        Aloe falcata|    null|      Liliales|   Liliaceae|         Aloe|\n",
            "| II|       Barkeria spp.|    null|    Orchidales| Orchidaceae|     Barkeria|\n",
            "| II|      Cycnoches spp.|    null|    Orchidales| Orchidaceae|    Cycnoches|\n",
            "| II|Goodyera viridiflora|    null|    Orchidales| Orchidaceae|     Goodyera|\n",
            "| II|Masdevallia staal...|    null|    Orchidales| Orchidaceae|  Masdevallia|\n",
            "| II|Oncidium portillo...|    null|    Orchidales| Orchidaceae|     Oncidium|\n",
            "| II|  Oncidium toachicum|    null|    Orchidales| Orchidaceae|     Oncidium|\n",
            "| II|Pleurothallis rub...|    null|    Orchidales| Orchidaceae|Pleurothallis|\n",
            "| II|Spathoglottis pli...|    null|    Orchidales| Orchidaceae|Spathoglottis|\n",
            "| II|      Vandopsis spp.|    null|    Orchidales| Orchidaceae|    Vandopsis|\n",
            "| II| Acropora kimbeensis|Anthozoa|  Scleractinia| Acroporidae|     Acropora|\n",
            "| II|Mammillaria neopa...|    null|Caryophyllales|   Cactaceae|  Mammillaria|\n",
            "+---+--------------------+--------+--------------+------------+-------------+\n",
            "only showing top 20 rows\n",
            "\n"
          ]
        }
      ]
    },
    {
      "cell_type": "code",
      "source": [
        "# question 4 - What is the most common animal (Taxon) traded in 2017?\n",
        "\n",
        "# Selecting most common taxon from the year 2017\n",
        "common_taxon = spark.sql(\"SELECT Taxon FROM Trade WHERE Year == 2017 GROUP BY Taxon ORDER BY COUNT(Taxon) DESC LIMIT 1\")\n",
        "common_taxon.show()"
      ],
      "metadata": {
        "colab": {
          "base_uri": "https://localhost:8080/"
        },
        "id": "JCBGkcDfmAUI",
        "outputId": "312622ad-9afc-40a2-8e2f-324783cad677"
      },
      "execution_count": null,
      "outputs": [
        {
          "output_type": "stream",
          "name": "stdout",
          "text": [
            "+--------------------+\n",
            "|               Taxon|\n",
            "+--------------------+\n",
            "|Alligator mississ...|\n",
            "+--------------------+\n",
            "\n"
          ]
        }
      ]
    },
    {
      "cell_type": "code",
      "source": [
        "# question 5 - List all the Classes of animals where the following items are traded a) teeth b) live c) carvings\n",
        "\n",
        "# Selecting distinct class where the given items are traded\n",
        "list_classes = spark.sql(\"SELECT DISTINCT Class FROM Trade WHERE Term in ('teeth','live','carvings')\")\n",
        "list_classes.show()"
      ],
      "metadata": {
        "colab": {
          "base_uri": "https://localhost:8080/"
        },
        "id": "jao0ag13oBJJ",
        "outputId": "a3f3f868-eb42-492c-99e4-25f083355ada"
      },
      "execution_count": null,
      "outputs": [
        {
          "output_type": "stream",
          "name": "stdout",
          "text": [
            "+--------------+\n",
            "|         Class|\n",
            "+--------------+\n",
            "|          Aves|\n",
            "|      Bivalvia|\n",
            "|      Amphibia|\n",
            "|       Insecta|\n",
            "|      Mammalia|\n",
            "|Elasmobranchii|\n",
            "|     Arachnida|\n",
            "|          null|\n",
            "|    Gastropoda|\n",
            "|      Reptilia|\n",
            "|   Actinopteri|\n",
            "|      Anthozoa|\n",
            "|     Dipneusti|\n",
            "|  Hirudinoidea|\n",
            "|      Hydrozoa|\n",
            "+--------------+\n",
            "\n"
          ]
        }
      ]
    }
  ]
}